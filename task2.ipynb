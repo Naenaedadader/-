{
  "nbformat": 4,
  "nbformat_minor": 0,
  "metadata": {
    "colab": {
      "name": "Untitled24.ipynb",
      "provenance": [],
      "collapsed_sections": [],
      "toc_visible": true
    },
    "kernelspec": {
      "name": "python3",
      "display_name": "Python 3"
    },
    "accelerator": "GPU"
  },
  "cells": [
    {
      "cell_type": "code",
      "metadata": {
        "colab": {
          "base_uri": "https://localhost:8080/"
        },
        "id": "xaQUXpFfQ8OX",
        "outputId": "f51e78f3-2b5c-48b8-ad73-08a250326734"
      },
      "source": [
        "!pip install scikit-plot"
      ],
      "execution_count": 1,
      "outputs": [
        {
          "output_type": "stream",
          "text": [
            "Collecting scikit-plot\n",
            "  Downloading https://files.pythonhosted.org/packages/7c/47/32520e259340c140a4ad27c1b97050dd3254fdc517b1d59974d47037510e/scikit_plot-0.3.7-py3-none-any.whl\n",
            "Requirement already satisfied: scikit-learn>=0.18 in /usr/local/lib/python3.7/dist-packages (from scikit-plot) (0.22.2.post1)\n",
            "Requirement already satisfied: scipy>=0.9 in /usr/local/lib/python3.7/dist-packages (from scikit-plot) (1.4.1)\n",
            "Requirement already satisfied: matplotlib>=1.4.0 in /usr/local/lib/python3.7/dist-packages (from scikit-plot) (3.2.2)\n",
            "Requirement already satisfied: joblib>=0.10 in /usr/local/lib/python3.7/dist-packages (from scikit-plot) (1.0.1)\n",
            "Requirement already satisfied: numpy>=1.11.0 in /usr/local/lib/python3.7/dist-packages (from scikit-learn>=0.18->scikit-plot) (1.19.5)\n",
            "Requirement already satisfied: python-dateutil>=2.1 in /usr/local/lib/python3.7/dist-packages (from matplotlib>=1.4.0->scikit-plot) (2.8.1)\n",
            "Requirement already satisfied: pyparsing!=2.0.4,!=2.1.2,!=2.1.6,>=2.0.1 in /usr/local/lib/python3.7/dist-packages (from matplotlib>=1.4.0->scikit-plot) (2.4.7)\n",
            "Requirement already satisfied: kiwisolver>=1.0.1 in /usr/local/lib/python3.7/dist-packages (from matplotlib>=1.4.0->scikit-plot) (1.3.1)\n",
            "Requirement already satisfied: cycler>=0.10 in /usr/local/lib/python3.7/dist-packages (from matplotlib>=1.4.0->scikit-plot) (0.10.0)\n",
            "Requirement already satisfied: six>=1.5 in /usr/local/lib/python3.7/dist-packages (from python-dateutil>=2.1->matplotlib>=1.4.0->scikit-plot) (1.15.0)\n",
            "Installing collected packages: scikit-plot\n",
            "Successfully installed scikit-plot-0.3.7\n"
          ],
          "name": "stdout"
        }
      ]
    },
    {
      "cell_type": "code",
      "metadata": {
        "id": "lrE61KoZQ8xd"
      },
      "source": [
        "import numpy as np\n",
        "import pandas as pd\n",
        "import torch\n",
        "import glob\n",
        "import scikitplot as skplt\n",
        "import matplotlib.pyplot as plt\n",
        "from sklearn.metrics import roc_curve, auc\n",
        "import matplotlib as mpl\n",
        "import numpy as np\n",
        "from numpy.polynomial.polynomial import polyfit\n",
        "import csv"
      ],
      "execution_count": 2,
      "outputs": []
    },
    {
      "cell_type": "markdown",
      "metadata": {
        "id": "1EvO__yKj5ht"
      },
      "source": [
        "# 讀取資料"
      ]
    },
    {
      "cell_type": "code",
      "metadata": {
        "id": "R3wGIaZWRBRN"
      },
      "source": [
        "pth_list = glob.glob(\"/content/data - data (1).csv\") # 讀取csv"
      ],
      "execution_count": null,
      "outputs": []
    },
    {
      "cell_type": "code",
      "metadata": {
        "colab": {
          "base_uri": "https://localhost:8080/"
        },
        "id": "ENM_UX0hRTKS",
        "outputId": "a36ae3f0-2031-4d2f-e69e-6c41b0223b83"
      },
      "source": [
        "pth_list"
      ],
      "execution_count": null,
      "outputs": [
        {
          "output_type": "execute_result",
          "data": {
            "text/plain": [
              "['/content/data - data (1).csv']"
            ]
          },
          "metadata": {
            "tags": []
          },
          "execution_count": 80
        }
      ]
    },
    {
      "cell_type": "code",
      "metadata": {
        "id": "ojg2IChrRVK7"
      },
      "source": [
        "df_list = []\n",
        "\n",
        "for pth in pth_list:\n",
        "\n",
        "  df_list.append(pd.read_csv(pth))  \n",
        "\n",
        "\n",
        "df = pd.concat(df_list, axis = 0) "
      ],
      "execution_count": null,
      "outputs": []
    },
    {
      "cell_type": "code",
      "metadata": {
        "colab": {
          "base_uri": "https://localhost:8080/",
          "height": 639
        },
        "id": "L44EBYDhRZiz",
        "outputId": "8f7f02df-4de0-430f-b1a7-896072f27c59"
      },
      "source": [
        "df.head(20)\n"
      ],
      "execution_count": null,
      "outputs": [
        {
          "output_type": "execute_result",
          "data": {
            "text/html": [
              "<div>\n",
              "<style scoped>\n",
              "    .dataframe tbody tr th:only-of-type {\n",
              "        vertical-align: middle;\n",
              "    }\n",
              "\n",
              "    .dataframe tbody tr th {\n",
              "        vertical-align: top;\n",
              "    }\n",
              "\n",
              "    .dataframe thead th {\n",
              "        text-align: right;\n",
              "    }\n",
              "</style>\n",
              "<table border=\"1\" class=\"dataframe\">\n",
              "  <thead>\n",
              "    <tr style=\"text-align: right;\">\n",
              "      <th></th>\n",
              "      <th>DATE_TIME</th>\n",
              "      <th>LON</th>\n",
              "      <th>LAT</th>\n",
              "      <th>TAG</th>\n",
              "    </tr>\n",
              "  </thead>\n",
              "  <tbody>\n",
              "    <tr>\n",
              "      <th>0</th>\n",
              "      <td>2017-11-23 8:54:51</td>\n",
              "      <td>121.456230</td>\n",
              "      <td>25.062767</td>\n",
              "      <td>CELL_99</td>\n",
              "    </tr>\n",
              "    <tr>\n",
              "      <th>1</th>\n",
              "      <td>2017-11-23 8:54:47</td>\n",
              "      <td>121.456230</td>\n",
              "      <td>25.062767</td>\n",
              "      <td>CELL_98</td>\n",
              "    </tr>\n",
              "    <tr>\n",
              "      <th>2</th>\n",
              "      <td>2017-11-23 8:54:28</td>\n",
              "      <td>121.456245</td>\n",
              "      <td>25.062361</td>\n",
              "      <td>CELL_98</td>\n",
              "    </tr>\n",
              "    <tr>\n",
              "      <th>3</th>\n",
              "      <td>2017-11-23 8:54:40</td>\n",
              "      <td>121.456230</td>\n",
              "      <td>25.062767</td>\n",
              "      <td>CELL_98</td>\n",
              "    </tr>\n",
              "    <tr>\n",
              "      <th>4</th>\n",
              "      <td>2017-11-23 8:54:47</td>\n",
              "      <td>121.456230</td>\n",
              "      <td>25.062767</td>\n",
              "      <td>CELL_98</td>\n",
              "    </tr>\n",
              "    <tr>\n",
              "      <th>5</th>\n",
              "      <td>2017-11-23 8:54:34</td>\n",
              "      <td>121.454811</td>\n",
              "      <td>25.064192</td>\n",
              "      <td>CELL_98</td>\n",
              "    </tr>\n",
              "    <tr>\n",
              "      <th>6</th>\n",
              "      <td>2017-11-23 8:54:26</td>\n",
              "      <td>121.456245</td>\n",
              "      <td>25.062361</td>\n",
              "      <td>CELL_97</td>\n",
              "    </tr>\n",
              "    <tr>\n",
              "      <th>7</th>\n",
              "      <td>2017-11-23 8:54:26</td>\n",
              "      <td>121.449966</td>\n",
              "      <td>25.062826</td>\n",
              "      <td>CELL_97</td>\n",
              "    </tr>\n",
              "    <tr>\n",
              "      <th>8</th>\n",
              "      <td>2017-11-23 8:54:26</td>\n",
              "      <td>121.449966</td>\n",
              "      <td>25.062826</td>\n",
              "      <td>CELL_97</td>\n",
              "    </tr>\n",
              "    <tr>\n",
              "      <th>9</th>\n",
              "      <td>2017-11-23 8:54:19</td>\n",
              "      <td>121.453629</td>\n",
              "      <td>25.061743</td>\n",
              "      <td>CELL_96</td>\n",
              "    </tr>\n",
              "    <tr>\n",
              "      <th>10</th>\n",
              "      <td>2017-11-23 8:54:19</td>\n",
              "      <td>121.453629</td>\n",
              "      <td>25.061743</td>\n",
              "      <td>CELL_96</td>\n",
              "    </tr>\n",
              "    <tr>\n",
              "      <th>11</th>\n",
              "      <td>2017-11-23 8:54:28</td>\n",
              "      <td>121.456245</td>\n",
              "      <td>25.062361</td>\n",
              "      <td>CELL_95</td>\n",
              "    </tr>\n",
              "    <tr>\n",
              "      <th>12</th>\n",
              "      <td>2017-11-23 8:54:28</td>\n",
              "      <td>121.456245</td>\n",
              "      <td>25.062361</td>\n",
              "      <td>CELL_95</td>\n",
              "    </tr>\n",
              "    <tr>\n",
              "      <th>13</th>\n",
              "      <td>2017-11-23 8:54:28</td>\n",
              "      <td>121.456230</td>\n",
              "      <td>25.062767</td>\n",
              "      <td>CELL_95</td>\n",
              "    </tr>\n",
              "    <tr>\n",
              "      <th>14</th>\n",
              "      <td>2017-11-23 8:54:26</td>\n",
              "      <td>121.450386</td>\n",
              "      <td>25.064285</td>\n",
              "      <td>CELL_95</td>\n",
              "    </tr>\n",
              "    <tr>\n",
              "      <th>15</th>\n",
              "      <td>2017-11-23 8:54:06</td>\n",
              "      <td>121.449966</td>\n",
              "      <td>25.062826</td>\n",
              "      <td>CELL_94</td>\n",
              "    </tr>\n",
              "    <tr>\n",
              "      <th>16</th>\n",
              "      <td>2017-11-23 8:54:24</td>\n",
              "      <td>121.449966</td>\n",
              "      <td>25.062826</td>\n",
              "      <td>CELL_94</td>\n",
              "    </tr>\n",
              "    <tr>\n",
              "      <th>17</th>\n",
              "      <td>2017-11-23 8:54:24</td>\n",
              "      <td>121.449966</td>\n",
              "      <td>25.062826</td>\n",
              "      <td>CELL_94</td>\n",
              "    </tr>\n",
              "    <tr>\n",
              "      <th>18</th>\n",
              "      <td>2017-11-23 8:54:15</td>\n",
              "      <td>121.450386</td>\n",
              "      <td>25.064285</td>\n",
              "      <td>CELL_94</td>\n",
              "    </tr>\n",
              "    <tr>\n",
              "      <th>19</th>\n",
              "      <td>2017-11-23 8:54:06</td>\n",
              "      <td>121.452675</td>\n",
              "      <td>25.054808</td>\n",
              "      <td>CELL_94</td>\n",
              "    </tr>\n",
              "  </tbody>\n",
              "</table>\n",
              "</div>"
            ],
            "text/plain": [
              "             DATE_TIME         LON        LAT      TAG\n",
              "0   2017-11-23 8:54:51  121.456230  25.062767  CELL_99\n",
              "1   2017-11-23 8:54:47  121.456230  25.062767  CELL_98\n",
              "2   2017-11-23 8:54:28  121.456245  25.062361  CELL_98\n",
              "3   2017-11-23 8:54:40  121.456230  25.062767  CELL_98\n",
              "4   2017-11-23 8:54:47  121.456230  25.062767  CELL_98\n",
              "5   2017-11-23 8:54:34  121.454811  25.064192  CELL_98\n",
              "6   2017-11-23 8:54:26  121.456245  25.062361  CELL_97\n",
              "7   2017-11-23 8:54:26  121.449966  25.062826  CELL_97\n",
              "8   2017-11-23 8:54:26  121.449966  25.062826  CELL_97\n",
              "9   2017-11-23 8:54:19  121.453629  25.061743  CELL_96\n",
              "10  2017-11-23 8:54:19  121.453629  25.061743  CELL_96\n",
              "11  2017-11-23 8:54:28  121.456245  25.062361  CELL_95\n",
              "12  2017-11-23 8:54:28  121.456245  25.062361  CELL_95\n",
              "13  2017-11-23 8:54:28  121.456230  25.062767  CELL_95\n",
              "14  2017-11-23 8:54:26  121.450386  25.064285  CELL_95\n",
              "15  2017-11-23 8:54:06  121.449966  25.062826  CELL_94\n",
              "16  2017-11-23 8:54:24  121.449966  25.062826  CELL_94\n",
              "17  2017-11-23 8:54:24  121.449966  25.062826  CELL_94\n",
              "18  2017-11-23 8:54:15  121.450386  25.064285  CELL_94\n",
              "19  2017-11-23 8:54:06  121.452675  25.054808  CELL_94"
            ]
          },
          "metadata": {
            "tags": []
          },
          "execution_count": 82
        }
      ]
    },
    {
      "cell_type": "code",
      "metadata": {
        "colab": {
          "base_uri": "https://localhost:8080/"
        },
        "id": "5b7-7XHeCrQn",
        "outputId": "92605632-3d10-4f54-ef5e-0c934dbac918"
      },
      "source": [
        "df.dtypes"
      ],
      "execution_count": null,
      "outputs": [
        {
          "output_type": "execute_result",
          "data": {
            "text/plain": [
              "DATE_TIME     object\n",
              "LON          float64\n",
              "LAT          float64\n",
              "TAG           object\n",
              "dtype: object"
            ]
          },
          "metadata": {
            "tags": []
          },
          "execution_count": 83
        }
      ]
    },
    {
      "cell_type": "markdown",
      "metadata": {
        "id": "tVrXDyPo3Uxg"
      },
      "source": [
        "# 1.將重複項刪除並儲存"
      ]
    },
    {
      "cell_type": "code",
      "metadata": {
        "id": "4m1qUVFfDFyH"
      },
      "source": [
        "df_new=df.drop_duplicates(subset=None, keep='first', inplace=False)"
      ],
      "execution_count": null,
      "outputs": []
    },
    {
      "cell_type": "code",
      "metadata": {
        "colab": {
          "base_uri": "https://localhost:8080/",
          "height": 639
        },
        "id": "qNKG-A_1Eaps",
        "outputId": "29c5cd26-a2c7-4af5-cda7-e3d977f81c2e"
      },
      "source": [
        "df_new.head(20)"
      ],
      "execution_count": null,
      "outputs": [
        {
          "output_type": "execute_result",
          "data": {
            "text/html": [
              "<div>\n",
              "<style scoped>\n",
              "    .dataframe tbody tr th:only-of-type {\n",
              "        vertical-align: middle;\n",
              "    }\n",
              "\n",
              "    .dataframe tbody tr th {\n",
              "        vertical-align: top;\n",
              "    }\n",
              "\n",
              "    .dataframe thead th {\n",
              "        text-align: right;\n",
              "    }\n",
              "</style>\n",
              "<table border=\"1\" class=\"dataframe\">\n",
              "  <thead>\n",
              "    <tr style=\"text-align: right;\">\n",
              "      <th></th>\n",
              "      <th>DATE_TIME</th>\n",
              "      <th>LON</th>\n",
              "      <th>LAT</th>\n",
              "      <th>TAG</th>\n",
              "    </tr>\n",
              "  </thead>\n",
              "  <tbody>\n",
              "    <tr>\n",
              "      <th>0</th>\n",
              "      <td>2017-11-23 8:54:51</td>\n",
              "      <td>121.456230</td>\n",
              "      <td>25.062767</td>\n",
              "      <td>CELL_99</td>\n",
              "    </tr>\n",
              "    <tr>\n",
              "      <th>1</th>\n",
              "      <td>2017-11-23 8:54:47</td>\n",
              "      <td>121.456230</td>\n",
              "      <td>25.062767</td>\n",
              "      <td>CELL_98</td>\n",
              "    </tr>\n",
              "    <tr>\n",
              "      <th>2</th>\n",
              "      <td>2017-11-23 8:54:28</td>\n",
              "      <td>121.456245</td>\n",
              "      <td>25.062361</td>\n",
              "      <td>CELL_98</td>\n",
              "    </tr>\n",
              "    <tr>\n",
              "      <th>3</th>\n",
              "      <td>2017-11-23 8:54:40</td>\n",
              "      <td>121.456230</td>\n",
              "      <td>25.062767</td>\n",
              "      <td>CELL_98</td>\n",
              "    </tr>\n",
              "    <tr>\n",
              "      <th>5</th>\n",
              "      <td>2017-11-23 8:54:34</td>\n",
              "      <td>121.454811</td>\n",
              "      <td>25.064192</td>\n",
              "      <td>CELL_98</td>\n",
              "    </tr>\n",
              "    <tr>\n",
              "      <th>6</th>\n",
              "      <td>2017-11-23 8:54:26</td>\n",
              "      <td>121.456245</td>\n",
              "      <td>25.062361</td>\n",
              "      <td>CELL_97</td>\n",
              "    </tr>\n",
              "    <tr>\n",
              "      <th>7</th>\n",
              "      <td>2017-11-23 8:54:26</td>\n",
              "      <td>121.449966</td>\n",
              "      <td>25.062826</td>\n",
              "      <td>CELL_97</td>\n",
              "    </tr>\n",
              "    <tr>\n",
              "      <th>9</th>\n",
              "      <td>2017-11-23 8:54:19</td>\n",
              "      <td>121.453629</td>\n",
              "      <td>25.061743</td>\n",
              "      <td>CELL_96</td>\n",
              "    </tr>\n",
              "    <tr>\n",
              "      <th>11</th>\n",
              "      <td>2017-11-23 8:54:28</td>\n",
              "      <td>121.456245</td>\n",
              "      <td>25.062361</td>\n",
              "      <td>CELL_95</td>\n",
              "    </tr>\n",
              "    <tr>\n",
              "      <th>13</th>\n",
              "      <td>2017-11-23 8:54:28</td>\n",
              "      <td>121.456230</td>\n",
              "      <td>25.062767</td>\n",
              "      <td>CELL_95</td>\n",
              "    </tr>\n",
              "    <tr>\n",
              "      <th>14</th>\n",
              "      <td>2017-11-23 8:54:26</td>\n",
              "      <td>121.450386</td>\n",
              "      <td>25.064285</td>\n",
              "      <td>CELL_95</td>\n",
              "    </tr>\n",
              "    <tr>\n",
              "      <th>15</th>\n",
              "      <td>2017-11-23 8:54:06</td>\n",
              "      <td>121.449966</td>\n",
              "      <td>25.062826</td>\n",
              "      <td>CELL_94</td>\n",
              "    </tr>\n",
              "    <tr>\n",
              "      <th>16</th>\n",
              "      <td>2017-11-23 8:54:24</td>\n",
              "      <td>121.449966</td>\n",
              "      <td>25.062826</td>\n",
              "      <td>CELL_94</td>\n",
              "    </tr>\n",
              "    <tr>\n",
              "      <th>18</th>\n",
              "      <td>2017-11-23 8:54:15</td>\n",
              "      <td>121.450386</td>\n",
              "      <td>25.064285</td>\n",
              "      <td>CELL_94</td>\n",
              "    </tr>\n",
              "    <tr>\n",
              "      <th>19</th>\n",
              "      <td>2017-11-23 8:54:06</td>\n",
              "      <td>121.452675</td>\n",
              "      <td>25.054808</td>\n",
              "      <td>CELL_94</td>\n",
              "    </tr>\n",
              "    <tr>\n",
              "      <th>21</th>\n",
              "      <td>2017-11-23 8:54:02</td>\n",
              "      <td>121.452675</td>\n",
              "      <td>25.054808</td>\n",
              "      <td>CELL_93</td>\n",
              "    </tr>\n",
              "    <tr>\n",
              "      <th>22</th>\n",
              "      <td>2017-11-23 8:54:01</td>\n",
              "      <td>121.448494</td>\n",
              "      <td>25.060061</td>\n",
              "      <td>CELL_93</td>\n",
              "    </tr>\n",
              "    <tr>\n",
              "      <th>24</th>\n",
              "      <td>2017-11-23 8:53:58</td>\n",
              "      <td>121.449486</td>\n",
              "      <td>25.058641</td>\n",
              "      <td>CELL_92</td>\n",
              "    </tr>\n",
              "    <tr>\n",
              "      <th>26</th>\n",
              "      <td>2017-11-23 8:54:04</td>\n",
              "      <td>121.452675</td>\n",
              "      <td>25.054808</td>\n",
              "      <td>CELL_91</td>\n",
              "    </tr>\n",
              "    <tr>\n",
              "      <th>29</th>\n",
              "      <td>2017-11-23 8:54:02</td>\n",
              "      <td>121.450272</td>\n",
              "      <td>25.060368</td>\n",
              "      <td>CELL_91</td>\n",
              "    </tr>\n",
              "  </tbody>\n",
              "</table>\n",
              "</div>"
            ],
            "text/plain": [
              "             DATE_TIME         LON        LAT      TAG\n",
              "0   2017-11-23 8:54:51  121.456230  25.062767  CELL_99\n",
              "1   2017-11-23 8:54:47  121.456230  25.062767  CELL_98\n",
              "2   2017-11-23 8:54:28  121.456245  25.062361  CELL_98\n",
              "3   2017-11-23 8:54:40  121.456230  25.062767  CELL_98\n",
              "5   2017-11-23 8:54:34  121.454811  25.064192  CELL_98\n",
              "6   2017-11-23 8:54:26  121.456245  25.062361  CELL_97\n",
              "7   2017-11-23 8:54:26  121.449966  25.062826  CELL_97\n",
              "9   2017-11-23 8:54:19  121.453629  25.061743  CELL_96\n",
              "11  2017-11-23 8:54:28  121.456245  25.062361  CELL_95\n",
              "13  2017-11-23 8:54:28  121.456230  25.062767  CELL_95\n",
              "14  2017-11-23 8:54:26  121.450386  25.064285  CELL_95\n",
              "15  2017-11-23 8:54:06  121.449966  25.062826  CELL_94\n",
              "16  2017-11-23 8:54:24  121.449966  25.062826  CELL_94\n",
              "18  2017-11-23 8:54:15  121.450386  25.064285  CELL_94\n",
              "19  2017-11-23 8:54:06  121.452675  25.054808  CELL_94\n",
              "21  2017-11-23 8:54:02  121.452675  25.054808  CELL_93\n",
              "22  2017-11-23 8:54:01  121.448494  25.060061  CELL_93\n",
              "24  2017-11-23 8:53:58  121.449486  25.058641  CELL_92\n",
              "26  2017-11-23 8:54:04  121.452675  25.054808  CELL_91\n",
              "29  2017-11-23 8:54:02  121.450272  25.060368  CELL_91"
            ]
          },
          "metadata": {
            "tags": []
          },
          "execution_count": 85
        }
      ]
    },
    {
      "cell_type": "code",
      "metadata": {
        "id": "x1onASNoIj5M"
      },
      "source": [
        "#最后保存到dfc\n",
        "df_new.to_csv('dfc.csv')"
      ],
      "execution_count": null,
      "outputs": []
    },
    {
      "cell_type": "markdown",
      "metadata": {
        "id": "AIwDtlwl3OEI"
      },
      "source": [
        "# 2.把tag數量統計並儲存"
      ]
    },
    {
      "cell_type": "code",
      "metadata": {
        "id": "OzV8QAk4Morr"
      },
      "source": [
        "tag=df_new.TAG.value_counts()\n",
        "tag.to_csv('tag.csv')"
      ],
      "execution_count": null,
      "outputs": []
    },
    {
      "cell_type": "code",
      "metadata": {
        "colab": {
          "base_uri": "https://localhost:8080/"
        },
        "id": "Hnfv505B5y91",
        "outputId": "c33740b6-c297-4776-860e-8ff267a59d69"
      },
      "source": [
        "tag.head(20)"
      ],
      "execution_count": null,
      "outputs": [
        {
          "output_type": "execute_result",
          "data": {
            "text/plain": [
              "CELL_136    559\n",
              "CELL_133    283\n",
              "CELL_1      116\n",
              "CELL_141    103\n",
              "CELL_132     50\n",
              "CELL_144     47\n",
              "CELL_12      44\n",
              "CELL_140     25\n",
              "CELL_41      16\n",
              "CELL_118     14\n",
              "CELL_138     13\n",
              "CELL_104     12\n",
              "CELL_122     12\n",
              "CELL_100     12\n",
              "CELL_40      11\n",
              "CELL_4       11\n",
              "CELL_135     11\n",
              "CELL_134     11\n",
              "CELL_10      11\n",
              "CELL_123     11\n",
              "Name: TAG, dtype: int64"
            ]
          },
          "metadata": {
            "tags": []
          },
          "execution_count": 88
        }
      ]
    },
    {
      "cell_type": "markdown",
      "metadata": {
        "id": "UVVfY7-v3ELY"
      },
      "source": [
        "# 3.home的cell_1存取成csv\n",
        "藉由geo.json觀察資料和時間並選取cell_1當做住家\n",
        "\n"
      ]
    },
    {
      "cell_type": "code",
      "metadata": {
        "colab": {
          "base_uri": "https://localhost:8080/"
        },
        "id": "jMBKluwxOuNZ",
        "outputId": "995744b0-037e-4a03-b356-c63e9094e0d3"
      },
      "source": [
        "df_home=df_new[df_new.TAG==\"CELL_1\"]\n",
        "df_home1=df_home.sort_values('DATE_TIME',ascending=True)\n",
        "df_home1.head(60)\n",
        "df_home1.info()"
      ],
      "execution_count": null,
      "outputs": [
        {
          "output_type": "stream",
          "text": [
            "<class 'pandas.core.frame.DataFrame'>\n",
            "Int64Index: 116 entries, 2721 to 2719\n",
            "Data columns (total 4 columns):\n",
            " #   Column     Non-Null Count  Dtype  \n",
            "---  ------     --------------  -----  \n",
            " 0   DATE_TIME  116 non-null    object \n",
            " 1   LON        116 non-null    float64\n",
            " 2   LAT        116 non-null    float64\n",
            " 3   TAG        116 non-null    object \n",
            "dtypes: float64(2), object(2)\n",
            "memory usage: 4.5+ KB\n"
          ],
          "name": "stdout"
        }
      ]
    },
    {
      "cell_type": "code",
      "metadata": {
        "id": "JXBdxnuL3f-_"
      },
      "source": [
        "df_home1.to_csv('dfhome.csv')"
      ],
      "execution_count": null,
      "outputs": []
    },
    {
      "cell_type": "markdown",
      "metadata": {
        "id": "1CxILAei3BXI"
      },
      "source": [
        "# 4.work的cell_136,133,141,132存取成csv\n",
        "藉由geo.json觀察資料和時間並選取cell_136,133,141,132當做work\n"
      ]
    },
    {
      "cell_type": "code",
      "metadata": {
        "id": "j4OEdfwgza4a"
      },
      "source": [
        "df_work1=df_new[df_new.TAG==\"CELL_136\"]\n",
        "df_work2=df_new[df_new.TAG==\"CELL_133\"]\n",
        "df_work3=df_new[df_new.TAG==\"CELL_141\"]\n",
        "df_work4=df_new[df_new.TAG==\"CELL_132\"]"
      ],
      "execution_count": null,
      "outputs": []
    },
    {
      "cell_type": "code",
      "metadata": {
        "colab": {
          "base_uri": "https://localhost:8080/"
        },
        "id": "X_SXQTjO0b5K",
        "outputId": "c8301bd0-2de9-4d07-c0df-5dc994d05997"
      },
      "source": [
        "df_work_new=pd.concat([df_work1,df_work2,df_work3,df_work4],axis=0)\n",
        "df_work_new1=df_work_new.sort_values('DATE_TIME',ascending=True)\n",
        "df_work_new1.head(100)\n",
        "df_work_new1.info()"
      ],
      "execution_count": null,
      "outputs": [
        {
          "output_type": "stream",
          "text": [
            "<class 'pandas.core.frame.DataFrame'>\n",
            "Int64Index: 995 entries, 2293 to 2271\n",
            "Data columns (total 4 columns):\n",
            " #   Column     Non-Null Count  Dtype  \n",
            "---  ------     --------------  -----  \n",
            " 0   DATE_TIME  995 non-null    object \n",
            " 1   LON        995 non-null    float64\n",
            " 2   LAT        995 non-null    float64\n",
            " 3   TAG        995 non-null    object \n",
            "dtypes: float64(2), object(2)\n",
            "memory usage: 38.9+ KB\n"
          ],
          "name": "stdout"
        }
      ]
    },
    {
      "cell_type": "code",
      "metadata": {
        "id": "RuhWq80f3yRP"
      },
      "source": [
        "df_work_new1.to_csv('dfwork.csv')"
      ],
      "execution_count": null,
      "outputs": []
    },
    {
      "cell_type": "markdown",
      "metadata": {
        "id": "FlEQaceo6CsI"
      },
      "source": [
        "# 5.去掉work和home剩下的當作路徑存成csv"
      ]
    },
    {
      "cell_type": "code",
      "metadata": {
        "colab": {
          "base_uri": "https://localhost:8080/"
        },
        "id": "t4ZkbT75OuAY",
        "outputId": "ee48a6a5-901f-47f5-a895-0b87ecb4957f"
      },
      "source": [
        "\n",
        "df_new=df_new[df_new.TAG!=\"CELL_1\"]\n",
        "df_new=df_new[df_new.TAG!=\"CELL_136\"]\n",
        "df_new=df_new[df_new.TAG!=\"CELL_141\"]\n",
        "df_new=df_new[df_new.TAG!=\"CELL_132\"]\n",
        "df_path=df_new[df_new.TAG!=\"CELL_133\"]\n",
        "df_path.TAG.value_counts()\n"
      ],
      "execution_count": null,
      "outputs": [
        {
          "output_type": "execute_result",
          "data": {
            "text/plain": [
              "CELL_144    47\n",
              "CELL_12     44\n",
              "CELL_140    25\n",
              "CELL_41     16\n",
              "CELL_118    14\n",
              "            ..\n",
              "CELL_200     1\n",
              "CELL_209     1\n",
              "CELL_7       1\n",
              "CELL_190     1\n",
              "CELL_206     1\n",
              "Name: TAG, Length: 216, dtype: int64"
            ]
          },
          "metadata": {
            "tags": []
          },
          "execution_count": 51
        }
      ]
    },
    {
      "cell_type": "code",
      "metadata": {
        "id": "jJt6otja5KTn"
      },
      "source": [
        "df_path.to_csv('dfpath.csv')"
      ],
      "execution_count": null,
      "outputs": []
    }
  ]
}